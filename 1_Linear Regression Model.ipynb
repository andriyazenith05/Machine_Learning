{
 "cells": [
  {
   "cell_type": "markdown",
   "id": "ee9159e2",
   "metadata": {},
   "source": [
    "# Linear Regression Model"
   ]
  },
  {
   "cell_type": "code",
   "execution_count": 1,
   "id": "7a952da1",
   "metadata": {},
   "outputs": [],
   "source": [
    "import pandas as pd\n",
    "import matplotlib.pyplot as plt\n",
    "import seaborn as sns\n",
    "import numpy"
   ]
  },
  {
   "cell_type": "code",
   "execution_count": 2,
   "id": "2320f5db",
   "metadata": {},
   "outputs": [],
   "source": [
    "lcn = pd.read_csv(\"LungCapData.csv\")"
   ]
  },
  {
   "cell_type": "code",
   "execution_count": 3,
   "id": "eaec30c1",
   "metadata": {},
   "outputs": [
    {
     "data": {
      "text/html": [
       "<div>\n",
       "<style scoped>\n",
       "    .dataframe tbody tr th:only-of-type {\n",
       "        vertical-align: middle;\n",
       "    }\n",
       "\n",
       "    .dataframe tbody tr th {\n",
       "        vertical-align: top;\n",
       "    }\n",
       "\n",
       "    .dataframe thead th {\n",
       "        text-align: right;\n",
       "    }\n",
       "</style>\n",
       "<table border=\"1\" class=\"dataframe\">\n",
       "  <thead>\n",
       "    <tr style=\"text-align: right;\">\n",
       "      <th></th>\n",
       "      <th>LungCap</th>\n",
       "      <th>Age</th>\n",
       "      <th>Height</th>\n",
       "      <th>Smoke</th>\n",
       "      <th>Gender</th>\n",
       "      <th>Caesarean</th>\n",
       "    </tr>\n",
       "  </thead>\n",
       "  <tbody>\n",
       "    <tr>\n",
       "      <th>0</th>\n",
       "      <td>6.475</td>\n",
       "      <td>6</td>\n",
       "      <td>62.1</td>\n",
       "      <td>no</td>\n",
       "      <td>male</td>\n",
       "      <td>no</td>\n",
       "    </tr>\n",
       "    <tr>\n",
       "      <th>1</th>\n",
       "      <td>10.125</td>\n",
       "      <td>18</td>\n",
       "      <td>74.7</td>\n",
       "      <td>yes</td>\n",
       "      <td>female</td>\n",
       "      <td>no</td>\n",
       "    </tr>\n",
       "    <tr>\n",
       "      <th>2</th>\n",
       "      <td>9.550</td>\n",
       "      <td>16</td>\n",
       "      <td>69.7</td>\n",
       "      <td>no</td>\n",
       "      <td>female</td>\n",
       "      <td>yes</td>\n",
       "    </tr>\n",
       "    <tr>\n",
       "      <th>3</th>\n",
       "      <td>11.125</td>\n",
       "      <td>14</td>\n",
       "      <td>71.0</td>\n",
       "      <td>no</td>\n",
       "      <td>male</td>\n",
       "      <td>no</td>\n",
       "    </tr>\n",
       "    <tr>\n",
       "      <th>4</th>\n",
       "      <td>4.800</td>\n",
       "      <td>5</td>\n",
       "      <td>56.9</td>\n",
       "      <td>no</td>\n",
       "      <td>male</td>\n",
       "      <td>no</td>\n",
       "    </tr>\n",
       "  </tbody>\n",
       "</table>\n",
       "</div>"
      ],
      "text/plain": [
       "   LungCap  Age  Height Smoke  Gender Caesarean\n",
       "0    6.475    6    62.1    no    male        no\n",
       "1   10.125   18    74.7   yes  female        no\n",
       "2    9.550   16    69.7    no  female       yes\n",
       "3   11.125   14    71.0    no    male        no\n",
       "4    4.800    5    56.9    no    male        no"
      ]
     },
     "execution_count": 3,
     "metadata": {},
     "output_type": "execute_result"
    }
   ],
   "source": [
    "lcn.head()"
   ]
  },
  {
   "cell_type": "code",
   "execution_count": 30,
   "id": "cc98812e",
   "metadata": {},
   "outputs": [
    {
     "data": {
      "text/html": [
       "<div>\n",
       "<style scoped>\n",
       "    .dataframe tbody tr th:only-of-type {\n",
       "        vertical-align: middle;\n",
       "    }\n",
       "\n",
       "    .dataframe tbody tr th {\n",
       "        vertical-align: top;\n",
       "    }\n",
       "\n",
       "    .dataframe thead th {\n",
       "        text-align: right;\n",
       "    }\n",
       "</style>\n",
       "<table border=\"1\" class=\"dataframe\">\n",
       "  <thead>\n",
       "    <tr style=\"text-align: right;\">\n",
       "      <th></th>\n",
       "      <th>LungCap</th>\n",
       "      <th>Age</th>\n",
       "      <th>Height</th>\n",
       "      <th>Smoke</th>\n",
       "      <th>Gender</th>\n",
       "      <th>Caesarean</th>\n",
       "    </tr>\n",
       "  </thead>\n",
       "  <tbody>\n",
       "    <tr>\n",
       "      <th>720</th>\n",
       "      <td>5.725</td>\n",
       "      <td>9</td>\n",
       "      <td>56.0</td>\n",
       "      <td>0</td>\n",
       "      <td>1</td>\n",
       "      <td>0</td>\n",
       "    </tr>\n",
       "    <tr>\n",
       "      <th>721</th>\n",
       "      <td>9.050</td>\n",
       "      <td>18</td>\n",
       "      <td>72.0</td>\n",
       "      <td>1</td>\n",
       "      <td>0</td>\n",
       "      <td>1</td>\n",
       "    </tr>\n",
       "    <tr>\n",
       "      <th>722</th>\n",
       "      <td>3.850</td>\n",
       "      <td>11</td>\n",
       "      <td>60.5</td>\n",
       "      <td>1</td>\n",
       "      <td>1</td>\n",
       "      <td>0</td>\n",
       "    </tr>\n",
       "    <tr>\n",
       "      <th>723</th>\n",
       "      <td>9.825</td>\n",
       "      <td>15</td>\n",
       "      <td>64.9</td>\n",
       "      <td>0</td>\n",
       "      <td>1</td>\n",
       "      <td>0</td>\n",
       "    </tr>\n",
       "    <tr>\n",
       "      <th>724</th>\n",
       "      <td>7.100</td>\n",
       "      <td>10</td>\n",
       "      <td>67.7</td>\n",
       "      <td>0</td>\n",
       "      <td>0</td>\n",
       "      <td>0</td>\n",
       "    </tr>\n",
       "  </tbody>\n",
       "</table>\n",
       "</div>"
      ],
      "text/plain": [
       "     LungCap  Age  Height  Smoke  Gender  Caesarean\n",
       "720    5.725    9    56.0      0       1          0\n",
       "721    9.050   18    72.0      1       0          1\n",
       "722    3.850   11    60.5      1       1          0\n",
       "723    9.825   15    64.9      0       1          0\n",
       "724    7.100   10    67.7      0       0          0"
      ]
     },
     "execution_count": 30,
     "metadata": {},
     "output_type": "execute_result"
    }
   ],
   "source": [
    "lcn.tail()"
   ]
  },
  {
   "cell_type": "code",
   "execution_count": 4,
   "id": "333a5bf0",
   "metadata": {},
   "outputs": [],
   "source": [
    "# Problem statment\n",
    "# I want to build a predictive model to predict the Lungcap(Lung capacity) Value\n",
    "# Lungcap :  Capcity of the human lungs\n",
    "# Age  : Age in years\n",
    "# height in Inches\n",
    "# Smoke( no means does not smoke ; yes  smokes)\n",
    "# Gender male , female\n",
    "# Caesarean( No , Yes)"
   ]
  },
  {
   "cell_type": "code",
   "execution_count": 5,
   "id": "70db9c05",
   "metadata": {},
   "outputs": [
    {
     "data": {
      "text/plain": [
       "LungCap      0\n",
       "Age          0\n",
       "Height       0\n",
       "Smoke        0\n",
       "Gender       0\n",
       "Caesarean    0\n",
       "dtype: int64"
      ]
     },
     "execution_count": 5,
     "metadata": {},
     "output_type": "execute_result"
    }
   ],
   "source": [
    "# Checking for any null values in the datasets\n",
    "lcn.isnull().sum()"
   ]
  },
  {
   "cell_type": "code",
   "execution_count": 6,
   "id": "7884f54e",
   "metadata": {},
   "outputs": [],
   "source": [
    "# convert non numeric value into numeric by replace or use dummies - encoding\n",
    "lcn.Smoke.replace({'no' : 0 , 'yes' :1 } , inplace = True )\n",
    "lcn.Gender.replace( { \"male\" :0 , \"female\" :1} , inplace = True)\n",
    "lcn.Caesarean.replace({\"no\" :0 , \"yes\" :1} , inplace = True)"
   ]
  },
  {
   "cell_type": "code",
   "execution_count": 7,
   "id": "b65795b7",
   "metadata": {},
   "outputs": [
    {
     "data": {
      "text/html": [
       "<div>\n",
       "<style scoped>\n",
       "    .dataframe tbody tr th:only-of-type {\n",
       "        vertical-align: middle;\n",
       "    }\n",
       "\n",
       "    .dataframe tbody tr th {\n",
       "        vertical-align: top;\n",
       "    }\n",
       "\n",
       "    .dataframe thead th {\n",
       "        text-align: right;\n",
       "    }\n",
       "</style>\n",
       "<table border=\"1\" class=\"dataframe\">\n",
       "  <thead>\n",
       "    <tr style=\"text-align: right;\">\n",
       "      <th></th>\n",
       "      <th>LungCap</th>\n",
       "      <th>Age</th>\n",
       "      <th>Height</th>\n",
       "      <th>Smoke</th>\n",
       "      <th>Gender</th>\n",
       "      <th>Caesarean</th>\n",
       "    </tr>\n",
       "  </thead>\n",
       "  <tbody>\n",
       "    <tr>\n",
       "      <th>0</th>\n",
       "      <td>6.475</td>\n",
       "      <td>6</td>\n",
       "      <td>62.1</td>\n",
       "      <td>0</td>\n",
       "      <td>0</td>\n",
       "      <td>0</td>\n",
       "    </tr>\n",
       "    <tr>\n",
       "      <th>1</th>\n",
       "      <td>10.125</td>\n",
       "      <td>18</td>\n",
       "      <td>74.7</td>\n",
       "      <td>1</td>\n",
       "      <td>1</td>\n",
       "      <td>0</td>\n",
       "    </tr>\n",
       "    <tr>\n",
       "      <th>2</th>\n",
       "      <td>9.550</td>\n",
       "      <td>16</td>\n",
       "      <td>69.7</td>\n",
       "      <td>0</td>\n",
       "      <td>1</td>\n",
       "      <td>1</td>\n",
       "    </tr>\n",
       "    <tr>\n",
       "      <th>3</th>\n",
       "      <td>11.125</td>\n",
       "      <td>14</td>\n",
       "      <td>71.0</td>\n",
       "      <td>0</td>\n",
       "      <td>0</td>\n",
       "      <td>0</td>\n",
       "    </tr>\n",
       "    <tr>\n",
       "      <th>4</th>\n",
       "      <td>4.800</td>\n",
       "      <td>5</td>\n",
       "      <td>56.9</td>\n",
       "      <td>0</td>\n",
       "      <td>0</td>\n",
       "      <td>0</td>\n",
       "    </tr>\n",
       "    <tr>\n",
       "      <th>5</th>\n",
       "      <td>6.225</td>\n",
       "      <td>11</td>\n",
       "      <td>58.7</td>\n",
       "      <td>0</td>\n",
       "      <td>1</td>\n",
       "      <td>0</td>\n",
       "    </tr>\n",
       "    <tr>\n",
       "      <th>6</th>\n",
       "      <td>4.950</td>\n",
       "      <td>8</td>\n",
       "      <td>63.3</td>\n",
       "      <td>0</td>\n",
       "      <td>0</td>\n",
       "      <td>1</td>\n",
       "    </tr>\n",
       "    <tr>\n",
       "      <th>7</th>\n",
       "      <td>7.325</td>\n",
       "      <td>11</td>\n",
       "      <td>70.4</td>\n",
       "      <td>0</td>\n",
       "      <td>0</td>\n",
       "      <td>0</td>\n",
       "    </tr>\n",
       "    <tr>\n",
       "      <th>8</th>\n",
       "      <td>8.875</td>\n",
       "      <td>15</td>\n",
       "      <td>70.5</td>\n",
       "      <td>0</td>\n",
       "      <td>0</td>\n",
       "      <td>0</td>\n",
       "    </tr>\n",
       "    <tr>\n",
       "      <th>9</th>\n",
       "      <td>6.800</td>\n",
       "      <td>11</td>\n",
       "      <td>59.2</td>\n",
       "      <td>0</td>\n",
       "      <td>0</td>\n",
       "      <td>0</td>\n",
       "    </tr>\n",
       "  </tbody>\n",
       "</table>\n",
       "</div>"
      ],
      "text/plain": [
       "   LungCap  Age  Height  Smoke  Gender  Caesarean\n",
       "0    6.475    6    62.1      0       0          0\n",
       "1   10.125   18    74.7      1       1          0\n",
       "2    9.550   16    69.7      0       1          1\n",
       "3   11.125   14    71.0      0       0          0\n",
       "4    4.800    5    56.9      0       0          0\n",
       "5    6.225   11    58.7      0       1          0\n",
       "6    4.950    8    63.3      0       0          1\n",
       "7    7.325   11    70.4      0       0          0\n",
       "8    8.875   15    70.5      0       0          0\n",
       "9    6.800   11    59.2      0       0          0"
      ]
     },
     "execution_count": 7,
     "metadata": {},
     "output_type": "execute_result"
    }
   ],
   "source": [
    "lcn.head(10)"
   ]
  },
  {
   "cell_type": "code",
   "execution_count": 8,
   "id": "bdbc2710",
   "metadata": {},
   "outputs": [],
   "source": [
    "# Sampling - Split the given dataset into training and test datasets\n",
    "# when ever we build a predictive model\n",
    "# divide data in train data ans test data\n",
    "# train data model is build & test data preiction is done(testing is done)\n",
    "\n",
    "lcn_y = lcn.iloc[: , 0]   \n",
    "#In this predictive model, we are going to predict the luncapacity of a person based on other features\n",
    "# 0 th column is the luncap, for which prediction is to be done\n",
    "# Luncap is the dependent variable\n",
    "\n",
    "lcn_x = lcn.iloc[: , 1:6]\n",
    "# Seperate the columns starting from age to Caesarean\n",
    "#independant variables\n",
    "\n",
    "# Seprated the X and Y"
   ]
  },
  {
   "cell_type": "markdown",
   "id": "6667f893",
   "metadata": {},
   "source": [
    "scikit-learn Machine Learning in Python\n",
    "\n",
    "Simple and efficient tools for predictive data analysis Accessible to everybody, and reusable in various contexts Built on NumPy, SciPy, and matplotlib Open source, commercially usable - BSD license\n",
    "\n",
    "Scikit-learn is an open source machine learning library that supports supervised and unsupervised learning. It also provides various tools for model fitting, data preprocessing, model selection and evaluation, and many other utilities.\n"
   ]
  },
  {
   "cell_type": "code",
   "execution_count": 9,
   "id": "294c0003",
   "metadata": {},
   "outputs": [],
   "source": [
    "from sklearn.model_selection import train_test_split"
   ]
  },
  {
   "cell_type": "code",
   "execution_count": 10,
   "id": "2683a522",
   "metadata": {},
   "outputs": [],
   "source": [
    "# lcn_x , lcn_y\n",
    "# lcn_x into lcn_x_train, lcn_x_test\n",
    "# lcn_y into lcn_y_train, lcn_y_test\n",
    "# split the datsets into 80% for training and 20% for testing\n",
    "\n",
    "lcn_x_train, lcn_x_test, lcn_y_train , lcn_y_test  =  train_test_split( lcn_x , lcn_y , test_size = .2 , random_state = 101)\n",
    "\n",
    "# Random sampling any row can be part of either train or test datasets"
   ]
  },
  {
   "cell_type": "code",
   "execution_count": 11,
   "id": "a4f9e0db",
   "metadata": {},
   "outputs": [
    {
     "data": {
      "text/plain": [
       "(725, 6)"
      ]
     },
     "execution_count": 11,
     "metadata": {},
     "output_type": "execute_result"
    }
   ],
   "source": [
    "lcn.shape"
   ]
  },
  {
   "cell_type": "code",
   "execution_count": 12,
   "id": "11f4a87e",
   "metadata": {},
   "outputs": [
    {
     "name": "stdout",
     "output_type": "stream",
     "text": [
      "(580, 5)\n",
      "(580,)\n"
     ]
    }
   ],
   "source": [
    "print(lcn_x_train.shape)\n",
    "print(lcn_y_train.shape)\n",
    "# records should match"
   ]
  },
  {
   "cell_type": "code",
   "execution_count": 13,
   "id": "4d5e200f",
   "metadata": {},
   "outputs": [
    {
     "name": "stdout",
     "output_type": "stream",
     "text": [
      "(145, 5)\n",
      "(145,)\n"
     ]
    }
   ],
   "source": [
    "print(lcn_x_test.shape)\n",
    "print(lcn_y_test.shape)\n",
    "# records should match"
   ]
  },
  {
   "cell_type": "markdown",
   "id": "2a7ac4da",
   "metadata": {},
   "source": [
    "When to choose Linear regression model?\n",
    "\n",
    "For continuous target variable/ predictive column...\n",
    "\n",
    "Linear regression is used for finding linear relationship between target and one or more predictors.\n",
    "\n",
    "Simple linear regression is useful for finding relationship between two continuous variables. One is predictor or independent variable and other is response or dependent variable.\n"
   ]
  },
  {
   "cell_type": "markdown",
   "id": "76883cbd",
   "metadata": {},
   "source": [
    "Linear regression is a linear model, e.g. a model that assumes a linear relationship between the input variables (x) and the single output variable (y). More specifically, that y can be calculated from a linear combination of the input variables (x).\n",
    "\n",
    "When there is a single input variable (x), the method is referred to as simple linear regression. When there are multiple input variables, literature from statistics often refers to the method as multiple linear regression.\n",
    "\n",
    "Three major uses for regression analysis are (1) determining the strength of predictors, (2) forecasting an effect, and (3) trend forecasting.\n"
   ]
  },
  {
   "cell_type": "markdown",
   "id": "2040b1cb",
   "metadata": {},
   "source": [
    "-------------------------------------------------------------------------------------------\n",
    "\n",
    "Linear regression performs the task to predict a dependent variable value (y) based on a given independent variable (x) \n",
    "\n",
    "So, this regression technique finds out a linear relationship between x (input) and y(output)\n",
    "\n",
    "y = mx + c where m is the coefficient , c is the intercept\n",
    "\n",
    "In the equation y = mx + c the value of m is called the slope, (or gradient), of the line. \n",
    "\n",
    "It can be positive, negative or zero.... \n",
    "\n",
    "The value of c is called the vertical intercept of the line. "
   ]
  },
  {
   "cell_type": "markdown",
   "id": "2653b1dc",
   "metadata": {},
   "source": [
    "http://images.slideplayer.com/16/5256836/slides/slide_3.jpg"
   ]
  },
  {
   "cell_type": "markdown",
   "id": "ca3c1c3f",
   "metadata": {},
   "source": [
    "If the dependent variable increases on the Y-axis and independent variable increases on X-axis then such a relationship is termed as a Positive linear relationship."
   ]
  },
  {
   "cell_type": "markdown",
   "id": "6e774417",
   "metadata": {},
   "source": [
    "If the dependent variable decreases on the Y-axis and independent variable increases on the X-axis then such a relationship is called a negative linear relationship."
   ]
  },
  {
   "cell_type": "code",
   "execution_count": 14,
   "id": "95ca65e6",
   "metadata": {},
   "outputs": [],
   "source": [
    "from sklearn import linear_model"
   ]
  },
  {
   "cell_type": "code",
   "execution_count": 15,
   "id": "f98f4e9d",
   "metadata": {},
   "outputs": [],
   "source": [
    "reg= linear_model.LinearRegression()"
   ]
  },
  {
   "cell_type": "code",
   "execution_count": 16,
   "id": "67b5be55",
   "metadata": {},
   "outputs": [
    {
     "data": {
      "text/plain": [
       "LinearRegression()"
      ]
     },
     "execution_count": 16,
     "metadata": {},
     "output_type": "execute_result"
    }
   ],
   "source": [
    "# fit method is used to build the model\n",
    "reg.fit(lcn_x_train , lcn_y_train) # X ,Y and not (Y ,X)"
   ]
  },
  {
   "cell_type": "markdown",
   "id": "74d0ee49",
   "metadata": {},
   "source": [
    "Name of the model is REG\n",
    "\n",
    "LungCap = C + m1* Age + m2*Height + m3*Smo + m4*Gender + m5*Ces + Error"
   ]
  },
  {
   "cell_type": "code",
   "execution_count": 17,
   "id": "8b14ea5c",
   "metadata": {},
   "outputs": [
    {
     "data": {
      "text/html": [
       "<div>\n",
       "<style scoped>\n",
       "    .dataframe tbody tr th:only-of-type {\n",
       "        vertical-align: middle;\n",
       "    }\n",
       "\n",
       "    .dataframe tbody tr th {\n",
       "        vertical-align: top;\n",
       "    }\n",
       "\n",
       "    .dataframe thead th {\n",
       "        text-align: right;\n",
       "    }\n",
       "</style>\n",
       "<table border=\"1\" class=\"dataframe\">\n",
       "  <thead>\n",
       "    <tr style=\"text-align: right;\">\n",
       "      <th></th>\n",
       "      <th>Age</th>\n",
       "      <th>Height</th>\n",
       "      <th>Smoke</th>\n",
       "      <th>Gender</th>\n",
       "      <th>Caesarean</th>\n",
       "    </tr>\n",
       "  </thead>\n",
       "  <tbody>\n",
       "    <tr>\n",
       "      <th>551</th>\n",
       "      <td>7</td>\n",
       "      <td>51.2</td>\n",
       "      <td>0</td>\n",
       "      <td>1</td>\n",
       "      <td>0</td>\n",
       "    </tr>\n",
       "  </tbody>\n",
       "</table>\n",
       "</div>"
      ],
      "text/plain": [
       "     Age  Height  Smoke  Gender  Caesarean\n",
       "551    7    51.2      0       1          0"
      ]
     },
     "execution_count": 17,
     "metadata": {},
     "output_type": "execute_result"
    }
   ],
   "source": [
    "lcn_x_train.head(1)"
   ]
  },
  {
   "cell_type": "code",
   "execution_count": 18,
   "id": "61857e18",
   "metadata": {},
   "outputs": [
    {
     "data": {
      "text/plain": [
       "array([ 0.18687287,  0.25370122, -0.60703588, -0.37646409, -0.1482951 ])"
      ]
     },
     "execution_count": 18,
     "metadata": {},
     "output_type": "execute_result"
    }
   ],
   "source": [
    "reg.coef_  #m"
   ]
  },
  {
   "cell_type": "code",
   "execution_count": 19,
   "id": "b0139661",
   "metadata": {},
   "outputs": [
    {
     "data": {
      "text/plain": [
       "-10.642458657936237"
      ]
     },
     "execution_count": 19,
     "metadata": {},
     "output_type": "execute_result"
    }
   ],
   "source": [
    "reg.intercept_  #C"
   ]
  },
  {
   "cell_type": "code",
   "execution_count": 34,
   "id": "28bd86b8",
   "metadata": {},
   "outputs": [],
   "source": [
    "#Now test the model, by prediction\n",
    "pred  = reg.predict(lcn_x_test)\n",
    "actual  = lcn_y_test"
   ]
  },
  {
   "cell_type": "code",
   "execution_count": 44,
   "id": "e913be25",
   "metadata": {},
   "outputs": [
    {
     "name": "stdout",
     "output_type": "stream",
     "text": [
      "[ 7.54766894  5.68204508  6.32558014 10.79158567  3.47236857  5.63130484\n",
      "  7.27875094  4.71141679  8.91580848  4.95831192 11.72347409  7.56462836\n",
      "  5.91965819 10.37350125  4.21082044  7.82945863  5.41906185  7.88227746\n",
      "  4.6579582   8.00433113 11.06137499  7.67539087  8.5790287   8.42968843\n",
      "  8.20135733  6.05850917  9.8407287   9.43496886  8.03985459 11.47657896\n",
      "  7.90740517  6.75959055 10.03728811  4.85683143 10.93884735  9.04513502\n",
      "  3.28821404  8.88635062  4.40425698  7.48579965  5.69404545  8.71988882\n",
      "  7.64073873  8.61160225  7.08915972  5.98920489  6.82617649  8.01569174\n",
      "  8.52597463  6.22001192  4.28668839  8.39503629  6.52173503  5.43474542\n",
      "  9.92900154 10.49515758 13.22031126  4.10005794  1.03436096  3.05035852\n",
      " 10.78230365 11.30307584 10.46074067  4.86363752  6.48708289  7.91052805\n",
      " 11.23896584  2.01698961  4.45499722  9.76230451  9.77678081 10.73812708\n",
      "  9.97045976  7.11869788 10.02528774  9.20416183  7.3006117   8.28139332\n",
      "  8.57135848  3.92367436  5.85963593  9.36838293  9.55253745  3.84883265\n",
      " 11.05577618  7.26675057  4.88628929  7.09844174  7.70484872  7.99839636\n",
      " 10.93452438  7.90100361  4.40425698 10.55125421 10.21400765  4.81017893\n",
      "  8.72212952  8.28572348  8.02104814 11.61391886  3.30798536  7.29483904\n",
      " 12.06256769  7.16798843  7.97487328  7.55101619  5.02514027  4.78192834\n",
      "  7.37503714  6.18783571 10.3755104   2.12775212  9.50572283  8.02785422\n",
      " 11.15789643  9.64721185 10.5725366   8.0024841   9.45105696 10.33220514\n",
      "  5.81120951  9.80215093  1.94087925  7.74469515 11.08674511  9.12333483\n",
      " 10.98774056 10.23240957 10.14124453  7.81561123  3.08525307  4.97151956\n",
      " 10.15646132  6.95302709  9.83432714  8.1452607   8.30283782 10.48442587\n",
      "  9.85969726  8.24937923 10.05234279  9.58743201  6.76351618  5.51373625\n",
      "  8.5165305 ]\n",
      "642     7.950\n",
      "269     8.775\n",
      "267     7.350\n",
      "351    11.675\n",
      "613     3.700\n",
      "        ...  \n",
      "473    11.025\n",
      "240     9.675\n",
      "6       4.950\n",
      "448     4.325\n",
      "23      8.725\n",
      "Name: LungCap, Length: 145, dtype: float64\n"
     ]
    }
   ],
   "source": [
    "print(pred)\n",
    "print(actual)"
   ]
  },
  {
   "cell_type": "code",
   "execution_count": 35,
   "id": "f655f10d",
   "metadata": {},
   "outputs": [],
   "source": [
    "#This data frame has the predicted and the actual values, to so side by side comparision\n",
    "pred_actual = pd.DataFrame( {\"Predicted_Value\" : pred   , \"Actual_Values\" :actual})"
   ]
  },
  {
   "cell_type": "code",
   "execution_count": 36,
   "id": "a2d0a066",
   "metadata": {},
   "outputs": [
    {
     "data": {
      "text/html": [
       "<div>\n",
       "<style scoped>\n",
       "    .dataframe tbody tr th:only-of-type {\n",
       "        vertical-align: middle;\n",
       "    }\n",
       "\n",
       "    .dataframe tbody tr th {\n",
       "        vertical-align: top;\n",
       "    }\n",
       "\n",
       "    .dataframe thead th {\n",
       "        text-align: right;\n",
       "    }\n",
       "</style>\n",
       "<table border=\"1\" class=\"dataframe\">\n",
       "  <thead>\n",
       "    <tr style=\"text-align: right;\">\n",
       "      <th></th>\n",
       "      <th>Predicted_Value</th>\n",
       "      <th>Actual_Values</th>\n",
       "    </tr>\n",
       "  </thead>\n",
       "  <tbody>\n",
       "    <tr>\n",
       "      <th>642</th>\n",
       "      <td>7.547669</td>\n",
       "      <td>7.950</td>\n",
       "    </tr>\n",
       "    <tr>\n",
       "      <th>269</th>\n",
       "      <td>5.682045</td>\n",
       "      <td>8.775</td>\n",
       "    </tr>\n",
       "    <tr>\n",
       "      <th>267</th>\n",
       "      <td>6.325580</td>\n",
       "      <td>7.350</td>\n",
       "    </tr>\n",
       "    <tr>\n",
       "      <th>351</th>\n",
       "      <td>10.791586</td>\n",
       "      <td>11.675</td>\n",
       "    </tr>\n",
       "    <tr>\n",
       "      <th>613</th>\n",
       "      <td>3.472369</td>\n",
       "      <td>3.700</td>\n",
       "    </tr>\n",
       "  </tbody>\n",
       "</table>\n",
       "</div>"
      ],
      "text/plain": [
       "     Predicted_Value  Actual_Values\n",
       "642         7.547669          7.950\n",
       "269         5.682045          8.775\n",
       "267         6.325580          7.350\n",
       "351        10.791586         11.675\n",
       "613         3.472369          3.700"
      ]
     },
     "execution_count": 36,
     "metadata": {},
     "output_type": "execute_result"
    }
   ],
   "source": [
    "pred_actual.head()"
   ]
  },
  {
   "cell_type": "markdown",
   "id": "5be2764e",
   "metadata": {},
   "source": [
    "How to evaluate the model?"
   ]
  },
  {
   "cell_type": "markdown",
   "id": "ddce21b0",
   "metadata": {},
   "source": [
    "In linear regression, objective is to find the best fit line that means the error between predicted values and actual values should be minimized\n",
    "\n",
    "The best fit line will have the least error"
   ]
  },
  {
   "cell_type": "markdown",
   "id": "980eaaac",
   "metadata": {},
   "source": [
    "Metrics are used to evalaute your model and reduce the error in the prediction \n",
    "\n",
    "R square - SSR/SSR+SSE (ALWAYS RANGE BETWEEN O TO 1, HIGHER THE VALUE BETTER IS THE MODEL)\n",
    "\n",
    "Adjusted R Square(ALWAYS RANGE BETWEEN O TO 1, HIGHER THE VALUE BETTER IS THE MODEL, SOMETIMES -VE )\n",
    "\n",
    "MSE : MEAN SQUARE ERROR ( SHOULD BE LOWER FOR THE BETTER MODEL)\n",
    "\n",
    "MAE : MEAN ABSOLUTE ERROR ( SHOULD BE LOWER FOR THE BETTER MODEL)"
   ]
  },
  {
   "cell_type": "markdown",
   "id": "1245bb56",
   "metadata": {},
   "source": [
    "What is the SST? \n",
    "\n",
    "The sum of squares total, denoted SST, is the squared differences between the observed dependent variable and its mean.\n",
    "\n",
    "There is another notation for the SST. It is TSS or total sum of squares.\n",
    "\n",
    "What is the SSR? \n",
    "\n",
    "The second term is the sum of squares due to regression, or SSR. It is the sum of the differences between the predicted value and the mean of the dependent variable\n",
    "\n",
    "What is the SSE? \n",
    "\n",
    "The last term is the sum of squares error, or SSE. The error is the difference between the observed value and the predicted value.\n"
   ]
  },
  {
   "cell_type": "code",
   "execution_count": 24,
   "id": "6c856e9f",
   "metadata": {},
   "outputs": [
    {
     "data": {
      "text/plain": [
       "0.8676116408504295"
      ]
     },
     "execution_count": 24,
     "metadata": {},
     "output_type": "execute_result"
    }
   ],
   "source": [
    "reg.score(lcn_x_train , lcn_y_train)  # value of R square : SSR/SSR+SSE"
   ]
  },
  {
   "cell_type": "code",
   "execution_count": 25,
   "id": "81b0ac00",
   "metadata": {},
   "outputs": [],
   "source": [
    "# Adjusted Rsquare\n",
    "#  1 - [ (1-Rsquare)* ( n-1) / ( n-k-1) ]\n",
    "#  K = 5 (INDEPENDANT VARIABLES)\n",
    "#  n = 580 (NO OF RECORDS)"
   ]
  },
  {
   "cell_type": "code",
   "execution_count": 31,
   "id": "3f277be0",
   "metadata": {},
   "outputs": [],
   "source": [
    "adjr_Rsqure =  1 - ((1 - .8676116408504295 )*(580-1)  / ( 580 - 5 -1) )"
   ]
  },
  {
   "cell_type": "code",
   "execution_count": 32,
   "id": "f64caf8f",
   "metadata": {},
   "outputs": [
    {
     "data": {
      "text/plain": [
       "0.8664584321470361"
      ]
     },
     "execution_count": 32,
     "metadata": {},
     "output_type": "execute_result"
    }
   ],
   "source": [
    "adjr_Rsqure"
   ]
  },
  {
   "cell_type": "code",
   "execution_count": 29,
   "id": "1467add5",
   "metadata": {},
   "outputs": [],
   "source": [
    "# MSE - mean of sum of squared errors ( for 580 records, sum of squared errors)\n",
    "\n",
    "# Mean Absolute Error (MAE) and Root mean squared error (RMSE) \n",
    "#are two of the most common metrics used to measure accuracy for continuous variables"
   ]
  },
  {
   "cell_type": "code",
   "execution_count": 37,
   "id": "0e1f2484",
   "metadata": {},
   "outputs": [],
   "source": [
    "from sklearn import metrics\n",
    "lcn_MAE  = metrics.mean_absolute_error(actual , pred)\n",
    "lcn_MSE  = metrics.mean_squared_error(actual , pred)"
   ]
  },
  {
   "cell_type": "code",
   "execution_count": 38,
   "id": "8e45c2c4",
   "metadata": {},
   "outputs": [
    {
     "data": {
      "text/plain": [
       "0.9511491414785203"
      ]
     },
     "execution_count": 38,
     "metadata": {},
     "output_type": "execute_result"
    }
   ],
   "source": [
    "lcn_MAE "
   ]
  },
  {
   "cell_type": "code",
   "execution_count": 39,
   "id": "714350eb",
   "metadata": {},
   "outputs": [
    {
     "data": {
      "text/plain": [
       "1.429105363503631"
      ]
     },
     "execution_count": 39,
     "metadata": {},
     "output_type": "execute_result"
    }
   ],
   "source": [
    "lcn_MSE"
   ]
  },
  {
   "cell_type": "code",
   "execution_count": 40,
   "id": "81255b7f",
   "metadata": {},
   "outputs": [
    {
     "data": {
      "text/plain": [
       "1.1954519494750222"
      ]
     },
     "execution_count": 40,
     "metadata": {},
     "output_type": "execute_result"
    }
   ],
   "source": [
    "# RMSE ( Root Mean square error) \n",
    "pow(lcn_MSE ,.5)# RMSE"
   ]
  },
  {
   "cell_type": "code",
   "execution_count": 41,
   "id": "cdd3f13a",
   "metadata": {},
   "outputs": [],
   "source": [
    "error  = pred - actual"
   ]
  },
  {
   "cell_type": "code",
   "execution_count": 42,
   "id": "2648bd32",
   "metadata": {},
   "outputs": [
    {
     "data": {
      "text/plain": [
       "(array([ 4.,  6., 20., 23., 39., 21., 17.,  9.,  4.,  2.]),\n",
       " array([-3.09295492, -2.45337401, -1.81379309, -1.17421218, -0.53463126,\n",
       "         0.10494965,  0.74453056,  1.38411148,  2.02369239,  2.66327331,\n",
       "         3.30285422]),\n",
       " <BarContainer object of 10 artists>)"
      ]
     },
     "execution_count": 42,
     "metadata": {},
     "output_type": "execute_result"
    },
    {
     "data": {
      "image/png": "[encoded data removed]",
      "text/plain": [
       "<Figure size 432x288 with 1 Axes>"
      ]
     },
     "metadata": {
      "needs_background": "light"
     },
     "output_type": "display_data"
    }
   ],
   "source": [
    "plt.hist(error)"
   ]
  },
  {
   "cell_type": "code",
   "execution_count": 43,
   "id": "96218f60",
   "metadata": {},
   "outputs": [
    {
     "name": "stderr",
     "output_type": "stream",
     "text": [
      "C:\\Users\\Zenith\\anaconda3\\lib\\site-packages\\seaborn\\distributions.py:2557: FutureWarning: `distplot` is a deprecated function and will be removed in a future version. Please adapt your code to use either `displot` (a figure-level function with similar flexibility) or `histplot` (an axes-level function for histograms).\n",
      "  warnings.warn(msg, FutureWarning)\n"
     ]
    },
    {
     "data": {
      "text/plain": [
       "<AxesSubplot:xlabel='LungCap', ylabel='Density'>"
      ]
     },
     "execution_count": 43,
     "metadata": {},
     "output_type": "execute_result"
    },
    {
     "data": {
      "image/png": "[encoded data removed]",
      "text/plain": [
       "<Figure size 432x288 with 1 Axes>"
      ]
     },
     "metadata": {
      "needs_background": "light"
     },
     "output_type": "display_data"
    }
   ],
   "source": [
    "import seaborn as sns\n",
    "sns.distplot(error)"
   ]
  },
  {
   "cell_type": "code",
   "execution_count": 37,
   "id": "f34f109f",
   "metadata": {},
   "outputs": [
    {
     "data": {
      "text/plain": [
       "<matplotlib.collections.PathCollection at 0x18168c51df0>"
      ]
     },
     "execution_count": 37,
     "metadata": {},
     "output_type": "execute_result"
    },
    {
     "data": {
      "image/png": "[encoded data removed]",
      "text/plain": [
       "<Figure size 432x288 with 1 Axes>"
      ]
     },
     "metadata": {
      "needs_background": "light"
     },
     "output_type": "display_data"
    }
   ],
   "source": [
    "plt.scatter(lcn_y_test , pred)"
   ]
  },
  {
   "cell_type": "code",
   "execution_count": 38,
   "id": "fdbfefad",
   "metadata": {},
   "outputs": [
    {
     "data": {
      "text/plain": [
       "array([ 7.54766894,  5.68204508,  6.32558014, 10.79158567,  3.47236857,\n",
       "        5.63130484,  7.27875094,  4.71141679,  8.91580848,  4.95831192,\n",
       "       11.72347409,  7.56462836,  5.91965819, 10.37350125,  4.21082044,\n",
       "        7.82945863,  5.41906185,  7.88227746,  4.6579582 ,  8.00433113,\n",
       "       11.06137499,  7.67539087,  8.5790287 ,  8.42968843,  8.20135733,\n",
       "        6.05850917,  9.8407287 ,  9.43496886,  8.03985459, 11.47657896,\n",
       "        7.90740517,  6.75959055, 10.03728811,  4.85683143, 10.93884735,\n",
       "        9.04513502,  3.28821404,  8.88635062,  4.40425698,  7.48579965,\n",
       "        5.69404545,  8.71988882,  7.64073873,  8.61160225,  7.08915972,\n",
       "        5.98920489,  6.82617649,  8.01569174,  8.52597463,  6.22001192,\n",
       "        4.28668839,  8.39503629,  6.52173503,  5.43474542,  9.92900154,\n",
       "       10.49515758, 13.22031126,  4.10005794,  1.03436096,  3.05035852,\n",
       "       10.78230365, 11.30307584, 10.46074067,  4.86363752,  6.48708289,\n",
       "        7.91052805, 11.23896584,  2.01698961,  4.45499722,  9.76230451,\n",
       "        9.77678081, 10.73812708,  9.97045976,  7.11869788, 10.02528774,\n",
       "        9.20416183,  7.3006117 ,  8.28139332,  8.57135848,  3.92367436,\n",
       "        5.85963593,  9.36838293,  9.55253745,  3.84883265, 11.05577618,\n",
       "        7.26675057,  4.88628929,  7.09844174,  7.70484872,  7.99839636,\n",
       "       10.93452438,  7.90100361,  4.40425698, 10.55125421, 10.21400765,\n",
       "        4.81017893,  8.72212952,  8.28572348,  8.02104814, 11.61391886,\n",
       "        3.30798536,  7.29483904, 12.06256769,  7.16798843,  7.97487328,\n",
       "        7.55101619,  5.02514027,  4.78192834,  7.37503714,  6.18783571,\n",
       "       10.3755104 ,  2.12775212,  9.50572283,  8.02785422, 11.15789643,\n",
       "        9.64721185, 10.5725366 ,  8.0024841 ,  9.45105696, 10.33220514,\n",
       "        5.81120951,  9.80215093,  1.94087925,  7.74469515, 11.08674511,\n",
       "        9.12333483, 10.98774056, 10.23240957, 10.14124453,  7.81561123,\n",
       "        3.08525307,  4.97151956, 10.15646132,  6.95302709,  9.83432714,\n",
       "        8.1452607 ,  8.30283782, 10.48442587,  9.85969726,  8.24937923,\n",
       "       10.05234279,  9.58743201,  6.76351618,  5.51373625,  8.5165305 ])"
      ]
     },
     "execution_count": 38,
     "metadata": {},
     "output_type": "execute_result"
    }
   ],
   "source": [
    "pred"
   ]
  },
  {
   "cell_type": "markdown",
   "id": "3a658845",
   "metadata": {},
   "source": [
    "LungCap = C + m1* Age + m2Height + m3Smo + m4Gender + m5Ces MODEL A (Adj R square .83)\n",
    "\n",
    "LungCap = C + m1* Age + m2Height + m3Smo MODEL B (Adj R square .829)\n",
    "\n",
    "LungCap = C + m1* Age + m2Height + m3Smo MODEL c (Adj R square .78)"
   ]
  },
  {
   "cell_type": "code",
   "execution_count": null,
   "id": "f0fb5c13",
   "metadata": {},
   "outputs": [],
   "source": []
  }
 ],
 "metadata": {
  "kernelspec": {
   "display_name": "Python 3",
   "language": "python",
   "name": "python3"
  },
  "language_info": {
   "codemirror_mode": {
    "name": "ipython",
    "version": 3
   },
   "file_extension": ".py",
   "mimetype": "text/x-python",
   "name": "python",
   "nbconvert_exporter": "python",
   "pygments_lexer": "ipython3",
   "version": "3.8.8"
  }
 },
 "nbformat": 4,
 "nbformat_minor": 5
}
