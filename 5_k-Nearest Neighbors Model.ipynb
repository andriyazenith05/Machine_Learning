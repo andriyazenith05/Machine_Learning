{
 "cells": [
  {
   "cell_type": "markdown",
   "id": "15cb3fda",
   "metadata": {},
   "source": [
    "# k-Nearest Neighbors Model"
   ]
  },
  {
   "cell_type": "markdown",
   "id": "7829cc28",
   "metadata": {},
   "source": [
    "K-Nearest Neighbor (KNN) algorithm is a distance based supervised learning algorithm that is used for solving classification problems.\n",
    "\n",
    "In this, we will be looking at the classes of the k nearest neighbors to a new point and assign it the class to which the majority of k neighbours belong too.\n",
    "\n",
    "To identify the nearest neighbors we use various techniques of measuring distance, the most common of them being the ‘Euclidean Distance’.\n"
   ]
  },
  {
   "cell_type": "markdown",
   "id": "4f231046",
   "metadata": {},
   "source": [
    "----------------------------------------------------------------------------------------------\n",
    "\n",
    "K-Nearest Neighbors is one of the most basic yet essential classification algorithms in Machine Learning. \n",
    "\n",
    "It belongs to the supervised learning domain and finds intense application in pattern recognition, data mining and intrusion detection."
   ]
  },
  {
   "cell_type": "markdown",
   "id": "ea711248",
   "metadata": {},
   "source": [
    "This algorithm is used to solve the classification model problems.\n",
    "\n",
    "K-nearest neighbor or K-NN algorithm basically creates an imaginary boundary to classify the data.\n",
    "\n",
    "When new data points come in, the algorithm will try to predict that to the nearest of the boundary line."
   ]
  },
  {
   "cell_type": "markdown",
   "id": "4f5a8c1d",
   "metadata": {},
   "source": [
    "K-NN algorithm can be used for Regression as well as for Classification but mostly it is used for the Classification problems.\n",
    "\n",
    "There are various methods for calculating this distance, of which the most commonly known methods are – Euclidian, Manhattan (for continuous) and Hamming distance (for categorical)."
   ]
  },
  {
   "cell_type": "markdown",
   "id": "6b8701c6",
   "metadata": {},
   "source": [
    "https://www.analyticsvidhya.com/wp-content/uploads/2014/10/scenario1.png"
   ]
  },
  {
   "cell_type": "markdown",
   "id": "f8f8b467",
   "metadata": {},
   "source": [
    "https://www.analyticsvidhya.com/wp-content/uploads/2014/10/scenario2.png"
   ]
  },
  {
   "cell_type": "markdown",
   "id": "1c408ca0",
   "metadata": {},
   "source": [
    "Therefore, larger k value means smother curves of separation resulting in less complex models. Whereas, smaller k value tends to overfit the data and resulting in complex models.\n",
    "\n",
    "Note: It’s very important to have the right k-value when analyzing the dataset to avoid overfitting and underfitting of the dataset.\n",
    "\n",
    "Using the k-nearest neighbor algorithm we fit the historical data (or train the model) and predict the future.\n"
   ]
  },
  {
   "cell_type": "code",
   "execution_count": 1,
   "id": "3485c429",
   "metadata": {},
   "outputs": [],
   "source": [
    "# k is the positive integer (Supervised/ Classification)\n",
    "# Nearest neighbor\n",
    "# finding the neighbor based upon the distance\n",
    "# if the distance is less\n",
    "# A (2,5)\n",
    "# B(6,9)\n",
    "# C(7,11)\n",
    "# D(11, 20)\n",
    "# FIND THE NEIGHBOUR OF A............HOW?\n",
    "# DISTANCE BETWEEN A&B, A&C, A&D LESS DISTANCE WILL BE THE NEIGHBOUR POINTS\n",
    "# k IS THE HYPER PARAMETER - USER NEEDS TO PROVIDE THE DATA"
   ]
  },
  {
   "cell_type": "code",
   "execution_count": 1,
   "id": "070fca25",
   "metadata": {},
   "outputs": [],
   "source": [
    "import pandas as pd\n",
    "cr =  pd.read_csv(\"CreditRisk.csv\")"
   ]
  },
  {
   "cell_type": "code",
   "execution_count": 7,
   "id": "571c1952",
   "metadata": {},
   "outputs": [
    {
     "data": {
      "text/html": [
       "<div>\n",
       "<style scoped>\n",
       "    .dataframe tbody tr th:only-of-type {\n",
       "        vertical-align: middle;\n",
       "    }\n",
       "\n",
       "    .dataframe tbody tr th {\n",
       "        vertical-align: top;\n",
       "    }\n",
       "\n",
       "    .dataframe thead th {\n",
       "        text-align: right;\n",
       "    }\n",
       "</style>\n",
       "<table border=\"1\" class=\"dataframe\">\n",
       "  <thead>\n",
       "    <tr style=\"text-align: right;\">\n",
       "      <th></th>\n",
       "      <th>Loan_ID</th>\n",
       "      <th>Gender</th>\n",
       "      <th>Married</th>\n",
       "      <th>Dependents</th>\n",
       "      <th>Education</th>\n",
       "      <th>Self_Employed</th>\n",
       "      <th>ApplicantIncome</th>\n",
       "      <th>CoapplicantIncome</th>\n",
       "      <th>LoanAmount</th>\n",
       "      <th>Loan_Amount_Term</th>\n",
       "      <th>Credit_History</th>\n",
       "      <th>Property_Area</th>\n",
       "      <th>Loan_Status</th>\n",
       "    </tr>\n",
       "  </thead>\n",
       "  <tbody>\n",
       "    <tr>\n",
       "      <th>0</th>\n",
       "      <td>LP001002</td>\n",
       "      <td>Male</td>\n",
       "      <td>No</td>\n",
       "      <td>0.0</td>\n",
       "      <td>Graduate</td>\n",
       "      <td>No</td>\n",
       "      <td>5849</td>\n",
       "      <td>0.0</td>\n",
       "      <td>NaN</td>\n",
       "      <td>360.0</td>\n",
       "      <td>1.0</td>\n",
       "      <td>Urban</td>\n",
       "      <td>Y</td>\n",
       "    </tr>\n",
       "    <tr>\n",
       "      <th>1</th>\n",
       "      <td>LP001003</td>\n",
       "      <td>Male</td>\n",
       "      <td>Yes</td>\n",
       "      <td>1.0</td>\n",
       "      <td>Graduate</td>\n",
       "      <td>No</td>\n",
       "      <td>4583</td>\n",
       "      <td>1508.0</td>\n",
       "      <td>128.0</td>\n",
       "      <td>360.0</td>\n",
       "      <td>1.0</td>\n",
       "      <td>Rural</td>\n",
       "      <td>N</td>\n",
       "    </tr>\n",
       "    <tr>\n",
       "      <th>2</th>\n",
       "      <td>LP001005</td>\n",
       "      <td>Male</td>\n",
       "      <td>Yes</td>\n",
       "      <td>0.0</td>\n",
       "      <td>Graduate</td>\n",
       "      <td>Yes</td>\n",
       "      <td>3000</td>\n",
       "      <td>0.0</td>\n",
       "      <td>66.0</td>\n",
       "      <td>360.0</td>\n",
       "      <td>1.0</td>\n",
       "      <td>Urban</td>\n",
       "      <td>Y</td>\n",
       "    </tr>\n",
       "    <tr>\n",
       "      <th>3</th>\n",
       "      <td>LP001006</td>\n",
       "      <td>Male</td>\n",
       "      <td>Yes</td>\n",
       "      <td>0.0</td>\n",
       "      <td>Not Graduate</td>\n",
       "      <td>No</td>\n",
       "      <td>2583</td>\n",
       "      <td>2358.0</td>\n",
       "      <td>120.0</td>\n",
       "      <td>360.0</td>\n",
       "      <td>1.0</td>\n",
       "      <td>Urban</td>\n",
       "      <td>Y</td>\n",
       "    </tr>\n",
       "    <tr>\n",
       "      <th>4</th>\n",
       "      <td>LP001008</td>\n",
       "      <td>Male</td>\n",
       "      <td>No</td>\n",
       "      <td>0.0</td>\n",
       "      <td>Graduate</td>\n",
       "      <td>No</td>\n",
       "      <td>6000</td>\n",
       "      <td>0.0</td>\n",
       "      <td>141.0</td>\n",
       "      <td>360.0</td>\n",
       "      <td>1.0</td>\n",
       "      <td>Urban</td>\n",
       "      <td>Y</td>\n",
       "    </tr>\n",
       "  </tbody>\n",
       "</table>\n",
       "</div>"
      ],
      "text/plain": [
       "    Loan_ID Gender Married  Dependents     Education Self_Employed  \\\n",
       "0  LP001002   Male      No         0.0      Graduate            No   \n",
       "1  LP001003   Male     Yes         1.0      Graduate            No   \n",
       "2  LP001005   Male     Yes         0.0      Graduate           Yes   \n",
       "3  LP001006   Male     Yes         0.0  Not Graduate            No   \n",
       "4  LP001008   Male      No         0.0      Graduate            No   \n",
       "\n",
       "   ApplicantIncome  CoapplicantIncome  LoanAmount  Loan_Amount_Term  \\\n",
       "0             5849                0.0         NaN             360.0   \n",
       "1             4583             1508.0       128.0             360.0   \n",
       "2             3000                0.0        66.0             360.0   \n",
       "3             2583             2358.0       120.0             360.0   \n",
       "4             6000                0.0       141.0             360.0   \n",
       "\n",
       "   Credit_History Property_Area Loan_Status  \n",
       "0             1.0         Urban           Y  \n",
       "1             1.0         Rural           N  \n",
       "2             1.0         Urban           Y  \n",
       "3             1.0         Urban           Y  \n",
       "4             1.0         Urban           Y  "
      ]
     },
     "execution_count": 7,
     "metadata": {},
     "output_type": "execute_result"
    }
   ],
   "source": [
    "cr.head()"
   ]
  },
  {
   "cell_type": "code",
   "execution_count": 8,
   "id": "35f56c40",
   "metadata": {},
   "outputs": [
    {
     "data": {
      "text/plain": [
       "Loan_ID               0\n",
       "Gender               24\n",
       "Married               3\n",
       "Dependents           25\n",
       "Education             0\n",
       "Self_Employed        55\n",
       "ApplicantIncome       0\n",
       "CoapplicantIncome     0\n",
       "LoanAmount           27\n",
       "Loan_Amount_Term     20\n",
       "Credit_History       79\n",
       "Property_Area         0\n",
       "Loan_Status           0\n",
       "dtype: int64"
      ]
     },
     "execution_count": 8,
     "metadata": {},
     "output_type": "execute_result"
    }
   ],
   "source": [
    "cr.isnull().sum() # null values"
   ]
  },
  {
   "cell_type": "code",
   "execution_count": 9,
   "id": "78dd59e2",
   "metadata": {},
   "outputs": [],
   "source": [
    "cr.Gender        = cr.Gender.fillna('Male')\n",
    "cr.Self_Employed = cr.Self_Employed.fillna('Yes')\n",
    "cr.Credit_History =  cr.Credit_History.fillna(0)\n",
    "cr.Dependents  = cr.Dependents.fillna(0)\n",
    "cr.LoanAmount  = cr.LoanAmount.fillna(cr.LoanAmount.mean())\n",
    "cr.Loan_Amount_Term  = cr.Loan_Amount_Term.fillna(cr.Loan_Amount_Term.mean())\n",
    "cr.Married           = cr.Married.fillna(\"Yes\")"
   ]
  },
  {
   "cell_type": "code",
   "execution_count": 10,
   "id": "99871261",
   "metadata": {},
   "outputs": [
    {
     "data": {
      "text/plain": [
       "Loan_ID              0\n",
       "Gender               0\n",
       "Married              0\n",
       "Dependents           0\n",
       "Education            0\n",
       "Self_Employed        0\n",
       "ApplicantIncome      0\n",
       "CoapplicantIncome    0\n",
       "LoanAmount           0\n",
       "Loan_Amount_Term     0\n",
       "Credit_History       0\n",
       "Property_Area        0\n",
       "Loan_Status          0\n",
       "dtype: int64"
      ]
     },
     "execution_count": 10,
     "metadata": {},
     "output_type": "execute_result"
    }
   ],
   "source": [
    "cr.isnull().sum()"
   ]
  },
  {
   "cell_type": "code",
   "execution_count": 11,
   "id": "341266a9",
   "metadata": {},
   "outputs": [],
   "source": [
    "cr.Gender.replace({\"Male\" :1 , \"Female\":0} ,inplace = True)\n",
    "cr.Married.replace({\"No\" :0 , \"Yes\":1} , inplace = True)\n",
    "cr.Education.replace({\"Graduate\" :1  , \"Not Graduate\":0} , inplace = True)\n",
    "cr.Self_Employed.replace({\"No\":0 , \"Yes\" :1 }, inplace = True)\n",
    "cr.Property_Area.replace({\"Semiurban\" :1 ,\"Urban\": 2 , \"Rural\" :3} , inplace = True)\n",
    "cr.Loan_Status.replace({\"Y\" :1 , \"N\" : 0}, inplace = True)"
   ]
  },
  {
   "cell_type": "code",
   "execution_count": 12,
   "id": "8bf33a61",
   "metadata": {},
   "outputs": [
    {
     "data": {
      "text/html": [
       "<div>\n",
       "<style scoped>\n",
       "    .dataframe tbody tr th:only-of-type {\n",
       "        vertical-align: middle;\n",
       "    }\n",
       "\n",
       "    .dataframe tbody tr th {\n",
       "        vertical-align: top;\n",
       "    }\n",
       "\n",
       "    .dataframe thead th {\n",
       "        text-align: right;\n",
       "    }\n",
       "</style>\n",
       "<table border=\"1\" class=\"dataframe\">\n",
       "  <thead>\n",
       "    <tr style=\"text-align: right;\">\n",
       "      <th></th>\n",
       "      <th>Loan_ID</th>\n",
       "      <th>Gender</th>\n",
       "      <th>Married</th>\n",
       "      <th>Dependents</th>\n",
       "      <th>Education</th>\n",
       "      <th>Self_Employed</th>\n",
       "      <th>ApplicantIncome</th>\n",
       "      <th>CoapplicantIncome</th>\n",
       "      <th>LoanAmount</th>\n",
       "      <th>Loan_Amount_Term</th>\n",
       "      <th>Credit_History</th>\n",
       "      <th>Property_Area</th>\n",
       "      <th>Loan_Status</th>\n",
       "    </tr>\n",
       "  </thead>\n",
       "  <tbody>\n",
       "    <tr>\n",
       "      <th>0</th>\n",
       "      <td>LP001002</td>\n",
       "      <td>1</td>\n",
       "      <td>0</td>\n",
       "      <td>0.0</td>\n",
       "      <td>1</td>\n",
       "      <td>0</td>\n",
       "      <td>5849</td>\n",
       "      <td>0.0</td>\n",
       "      <td>142.51153</td>\n",
       "      <td>360.0</td>\n",
       "      <td>1.0</td>\n",
       "      <td>2</td>\n",
       "      <td>1</td>\n",
       "    </tr>\n",
       "    <tr>\n",
       "      <th>1</th>\n",
       "      <td>LP001003</td>\n",
       "      <td>1</td>\n",
       "      <td>1</td>\n",
       "      <td>1.0</td>\n",
       "      <td>1</td>\n",
       "      <td>0</td>\n",
       "      <td>4583</td>\n",
       "      <td>1508.0</td>\n",
       "      <td>128.00000</td>\n",
       "      <td>360.0</td>\n",
       "      <td>1.0</td>\n",
       "      <td>3</td>\n",
       "      <td>0</td>\n",
       "    </tr>\n",
       "    <tr>\n",
       "      <th>2</th>\n",
       "      <td>LP001005</td>\n",
       "      <td>1</td>\n",
       "      <td>1</td>\n",
       "      <td>0.0</td>\n",
       "      <td>1</td>\n",
       "      <td>1</td>\n",
       "      <td>3000</td>\n",
       "      <td>0.0</td>\n",
       "      <td>66.00000</td>\n",
       "      <td>360.0</td>\n",
       "      <td>1.0</td>\n",
       "      <td>2</td>\n",
       "      <td>1</td>\n",
       "    </tr>\n",
       "    <tr>\n",
       "      <th>3</th>\n",
       "      <td>LP001006</td>\n",
       "      <td>1</td>\n",
       "      <td>1</td>\n",
       "      <td>0.0</td>\n",
       "      <td>0</td>\n",
       "      <td>0</td>\n",
       "      <td>2583</td>\n",
       "      <td>2358.0</td>\n",
       "      <td>120.00000</td>\n",
       "      <td>360.0</td>\n",
       "      <td>1.0</td>\n",
       "      <td>2</td>\n",
       "      <td>1</td>\n",
       "    </tr>\n",
       "    <tr>\n",
       "      <th>4</th>\n",
       "      <td>LP001008</td>\n",
       "      <td>1</td>\n",
       "      <td>0</td>\n",
       "      <td>0.0</td>\n",
       "      <td>1</td>\n",
       "      <td>0</td>\n",
       "      <td>6000</td>\n",
       "      <td>0.0</td>\n",
       "      <td>141.00000</td>\n",
       "      <td>360.0</td>\n",
       "      <td>1.0</td>\n",
       "      <td>2</td>\n",
       "      <td>1</td>\n",
       "    </tr>\n",
       "  </tbody>\n",
       "</table>\n",
       "</div>"
      ],
      "text/plain": [
       "    Loan_ID  Gender  Married  Dependents  Education  Self_Employed  \\\n",
       "0  LP001002       1        0         0.0          1              0   \n",
       "1  LP001003       1        1         1.0          1              0   \n",
       "2  LP001005       1        1         0.0          1              1   \n",
       "3  LP001006       1        1         0.0          0              0   \n",
       "4  LP001008       1        0         0.0          1              0   \n",
       "\n",
       "   ApplicantIncome  CoapplicantIncome  LoanAmount  Loan_Amount_Term  \\\n",
       "0             5849                0.0   142.51153             360.0   \n",
       "1             4583             1508.0   128.00000             360.0   \n",
       "2             3000                0.0    66.00000             360.0   \n",
       "3             2583             2358.0   120.00000             360.0   \n",
       "4             6000                0.0   141.00000             360.0   \n",
       "\n",
       "   Credit_History  Property_Area  Loan_Status  \n",
       "0             1.0              2            1  \n",
       "1             1.0              3            0  \n",
       "2             1.0              2            1  \n",
       "3             1.0              2            1  \n",
       "4             1.0              2            1  "
      ]
     },
     "execution_count": 12,
     "metadata": {},
     "output_type": "execute_result"
    }
   ],
   "source": [
    "cr.head()"
   ]
  },
  {
   "cell_type": "code",
   "execution_count": 13,
   "id": "7dc2417e",
   "metadata": {},
   "outputs": [],
   "source": [
    "cr_x = cr.iloc[: ,1:12]\n",
    "cr_y = cr.iloc[: , -1]"
   ]
  },
  {
   "cell_type": "code",
   "execution_count": 14,
   "id": "a4ae5582",
   "metadata": {},
   "outputs": [],
   "source": [
    "import sklearn\n",
    "from sklearn.model_selection import train_test_split\n",
    "cr_x_train , cr_x_test ,cr_y_train , cr_y_test = train_test_split(cr_x , cr_y , test_size = .2 , random_state = 101)"
   ]
  },
  {
   "cell_type": "code",
   "execution_count": 15,
   "id": "26f3baf8",
   "metadata": {},
   "outputs": [],
   "source": [
    "from sklearn.neighbors import KNeighborsClassifier"
   ]
  },
  {
   "cell_type": "code",
   "execution_count": 16,
   "id": "a1c8f08b",
   "metadata": {},
   "outputs": [],
   "source": [
    "knn = KNeighborsClassifier(n_neighbors= 6)"
   ]
  },
  {
   "cell_type": "code",
   "execution_count": 17,
   "id": "8cc7d7ea",
   "metadata": {},
   "outputs": [
    {
     "data": {
      "text/plain": [
       "KNeighborsClassifier(n_neighbors=6)"
      ]
     },
     "execution_count": 17,
     "metadata": {},
     "output_type": "execute_result"
    }
   ],
   "source": [
    "knn.fit(cr_x_train , cr_y_train)"
   ]
  },
  {
   "cell_type": "code",
   "execution_count": 18,
   "id": "dfbd34c1",
   "metadata": {},
   "outputs": [
    {
     "data": {
      "text/plain": [
       "array([0, 1, 1, 1, 1, 1, 1, 1, 1, 0, 1, 1, 1, 0, 1, 1, 1, 1, 1, 1, 1, 1,\n",
       "       1, 0, 1, 1, 1, 1, 1, 1, 1, 1, 1, 1, 0, 1, 1, 1, 1, 1, 1, 1, 1, 1,\n",
       "       1, 1, 1, 1, 1, 1, 1, 1, 0, 1, 1, 1, 1, 1, 1, 0, 1, 0, 1, 1, 0, 1,\n",
       "       1, 1, 0, 0, 1, 0, 1, 1, 1, 1, 1, 1, 1, 1, 1, 1, 1, 0, 0, 1, 1, 0,\n",
       "       1, 1, 1, 1, 1, 0, 1, 1, 1, 1, 0, 1, 1, 1, 0, 1, 1, 1, 1, 1, 0, 0,\n",
       "       1, 1, 1, 1, 1, 1, 1, 1, 0, 1, 1, 1, 1, 1, 1, 1, 1, 0, 1, 1, 1, 0,\n",
       "       1, 0, 1, 1, 1, 1, 1, 1, 0, 0, 1, 0, 0, 0, 1, 1, 0, 1, 1, 1, 1, 1,\n",
       "       1, 1, 1, 0, 1, 1, 1, 1, 1, 1, 0, 1, 1, 1, 1, 0, 1, 1, 0, 0, 1, 0,\n",
       "       1, 1, 1, 1, 0, 1, 0, 1, 1, 1, 1, 1, 1, 1, 1, 1, 1, 1, 1, 1, 1],\n",
       "      dtype=int64)"
      ]
     },
     "execution_count": 18,
     "metadata": {},
     "output_type": "execute_result"
    }
   ],
   "source": [
    "pred_knn = knn.predict(cr_x_test)\n",
    "pred_knn"
   ]
  },
  {
   "cell_type": "code",
   "execution_count": 19,
   "id": "f5055f03",
   "metadata": {},
   "outputs": [
    {
     "data": {
      "text/plain": [
       "64.9746192893401"
      ]
     },
     "execution_count": 19,
     "metadata": {},
     "output_type": "execute_result"
    }
   ],
   "source": [
    "from sklearn.metrics import confusion_matrix\n",
    "tab1 = confusion_matrix(pred_knn , cr_y_test)\n",
    "tab1\n",
    "tab1.diagonal().sum() / tab1.sum() * 100"
   ]
  },
  {
   "cell_type": "code",
   "execution_count": 20,
   "id": "7f7c2db6",
   "metadata": {},
   "outputs": [],
   "source": [
    "# How to find the K value? when you run your model then only we can decide...........\n",
    "# Do the trade off between accuracy and stability\n",
    "# find the accuracy for various values of K and then plot them\n",
    "# intention is to create a stable model / not a unstable model\n",
    "# prefer on the stable model"
   ]
  },
  {
   "cell_type": "code",
   "execution_count": 24,
   "id": "f7e9d7be",
   "metadata": {},
   "outputs": [],
   "source": [
    "aa = list() # empty list\n",
    "for i in range(1,50):\n",
    "    knn = KNeighborsClassifier(n_neighbors=i)\n",
    "    knn.fit(cr_x_train , cr_y_train)\n",
    "    pred_knn = knn.predict(cr_x_test)\n",
    "    tab =confusion_matrix(pred_knn , cr_y_test)\n",
    "    acc = tab.diagonal().sum() / tab.sum() \n",
    "    aa.append(acc)"
   ]
  },
  {
   "cell_type": "code",
   "execution_count": 25,
   "id": "4b0ae6f0",
   "metadata": {},
   "outputs": [
    {
     "data": {
      "text/plain": [
       "[0.6548223350253807,\n",
       " 0.6040609137055838,\n",
       " 0.649746192893401,\n",
       " 0.6345177664974619,\n",
       " 0.6802030456852792,\n",
       " 0.649746192893401,\n",
       " 0.6700507614213198,\n",
       " 0.6598984771573604,\n",
       " 0.700507614213198,\n",
       " 0.6954314720812182,\n",
       " 0.700507614213198,\n",
       " 0.7106598984771574,\n",
       " 0.7208121827411168,\n",
       " 0.7055837563451777,\n",
       " 0.7258883248730964,\n",
       " 0.7055837563451777,\n",
       " 0.7208121827411168,\n",
       " 0.7157360406091371,\n",
       " 0.7208121827411168,\n",
       " 0.7208121827411168,\n",
       " 0.7157360406091371,\n",
       " 0.7157360406091371,\n",
       " 0.7258883248730964,\n",
       " 0.7258883248730964,\n",
       " 0.7157360406091371,\n",
       " 0.7157360406091371,\n",
       " 0.7157360406091371,\n",
       " 0.7157360406091371,\n",
       " 0.7106598984771574,\n",
       " 0.7106598984771574,\n",
       " 0.7106598984771574,\n",
       " 0.7106598984771574,\n",
       " 0.7106598984771574,\n",
       " 0.7106598984771574,\n",
       " 0.7106598984771574,\n",
       " 0.7106598984771574,\n",
       " 0.7106598984771574,\n",
       " 0.7106598984771574,\n",
       " 0.7106598984771574,\n",
       " 0.7106598984771574,\n",
       " 0.7106598984771574,\n",
       " 0.7106598984771574,\n",
       " 0.7106598984771574,\n",
       " 0.7106598984771574,\n",
       " 0.7106598984771574,\n",
       " 0.7106598984771574,\n",
       " 0.7106598984771574,\n",
       " 0.7106598984771574,\n",
       " 0.7106598984771574]"
      ]
     },
     "execution_count": 25,
     "metadata": {},
     "output_type": "execute_result"
    }
   ],
   "source": [
    "aa"
   ]
  },
  {
   "cell_type": "code",
   "execution_count": 19,
   "id": "f26e78da",
   "metadata": {},
   "outputs": [
    {
     "data": {
      "text/plain": [
       "[<matplotlib.lines.Line2D at 0x19c9b6e91f0>]"
      ]
     },
     "execution_count": 19,
     "metadata": {},
     "output_type": "execute_result"
    },
    {
     "data": {
      "image/png": "[encoded data removed]",
      "text/plain": [
       "<Figure size 432x288 with 1 Axes>"
      ]
     },
     "metadata": {
      "needs_background": "light"
     },
     "output_type": "display_data"
    }
   ],
   "source": [
    "import matplotlib.pyplot as plt\n",
    "plt.plot(aa)"
   ]
  },
  {
   "cell_type": "code",
   "execution_count": null,
   "id": "e1e26f56",
   "metadata": {},
   "outputs": [],
   "source": [
    "#what is the value of k should be taken?????\n",
    "#prefer the stable k value....>30"
   ]
  },
  {
   "cell_type": "code",
   "execution_count": 20,
   "id": "006c8244",
   "metadata": {},
   "outputs": [
    {
     "data": {
      "text/plain": [
       "KNeighborsClassifier(n_neighbors=31)"
      ]
     },
     "execution_count": 20,
     "metadata": {},
     "output_type": "execute_result"
    }
   ],
   "source": [
    "knn = KNeighborsClassifier(n_neighbors= 31)\n",
    "knn.fit(cr_x_train , cr_y_train)"
   ]
  },
  {
   "cell_type": "code",
   "execution_count": 21,
   "id": "aa7d9d93",
   "metadata": {},
   "outputs": [
    {
     "data": {
      "text/plain": [
       "array([1, 1, 1, 1, 1, 1, 1, 1, 1, 1, 1, 1, 1, 1, 1, 1, 1, 1, 1, 1, 1, 1,\n",
       "       1, 1, 1, 1, 1, 1, 1, 1, 1, 1, 1, 1, 1, 1, 1, 1, 1, 1, 1, 1, 1, 1,\n",
       "       1, 1, 1, 1, 1, 1, 1, 1, 1, 1, 1, 1, 1, 1, 1, 1, 1, 1, 1, 1, 1, 1,\n",
       "       1, 1, 1, 1, 1, 1, 1, 1, 1, 1, 1, 1, 1, 1, 1, 1, 1, 1, 1, 1, 1, 1,\n",
       "       1, 1, 1, 1, 1, 1, 1, 1, 1, 1, 1, 1, 1, 1, 1, 1, 1, 1, 1, 1, 1, 1,\n",
       "       1, 1, 1, 1, 1, 1, 1, 1, 1, 1, 1, 1, 1, 1, 1, 1, 1, 1, 1, 1, 1, 1,\n",
       "       1, 1, 1, 1, 1, 1, 1, 1, 1, 1, 1, 1, 1, 1, 1, 1, 1, 1, 1, 1, 1, 1,\n",
       "       1, 1, 1, 1, 1, 1, 1, 1, 1, 1, 1, 1, 1, 1, 1, 1, 1, 1, 1, 1, 1, 1,\n",
       "       1, 1, 1, 1, 1, 1, 1, 1, 1, 1, 1, 1, 1, 1, 1, 1, 1, 1, 1, 1, 1],\n",
       "      dtype=int64)"
      ]
     },
     "execution_count": 21,
     "metadata": {},
     "output_type": "execute_result"
    }
   ],
   "source": [
    "pred_knn = knn.predict(cr_x_test)\n",
    "pred_knn"
   ]
  },
  {
   "cell_type": "code",
   "execution_count": 22,
   "id": "d47545c5",
   "metadata": {},
   "outputs": [
    {
     "data": {
      "text/plain": [
       "71.06598984771574"
      ]
     },
     "execution_count": 22,
     "metadata": {},
     "output_type": "execute_result"
    }
   ],
   "source": [
    "from sklearn.metrics import confusion_matrix\n",
    "tab1 = confusion_matrix(pred_knn , cr_y_test)\n",
    "tab1\n",
    "tab1.diagonal().sum() / tab1.sum() * 100"
   ]
  },
  {
   "cell_type": "code",
   "execution_count": null,
   "id": "a50bd33f",
   "metadata": {},
   "outputs": [],
   "source": []
  }
 ],
 "metadata": {
  "kernelspec": {
   "display_name": "Python 3",
   "language": "python",
   "name": "python3"
  },
  "language_info": {
   "codemirror_mode": {
    "name": "ipython",
    "version": 3
   },
   "file_extension": ".py",
   "mimetype": "text/x-python",
   "name": "python",
   "nbconvert_exporter": "python",
   "pygments_lexer": "ipython3",
   "version": "3.8.8"
  }
 },
 "nbformat": 4,
 "nbformat_minor": 5
}
